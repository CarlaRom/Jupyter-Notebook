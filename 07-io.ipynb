{
 "cells": [
  {
   "cell_type": "markdown",
   "metadata": {},
   "source": [
    "# Entrada y salida de datos"
   ]
  },
  {
   "cell_type": "markdown",
   "metadata": {},
   "source": [
    "### Imprimir valores en pantalla"
   ]
  },
  {
   "cell_type": "code",
   "execution_count": 1,
   "metadata": {},
   "outputs": [
    {
     "name": "stdout",
     "output_type": "stream",
     "text": [
      "Hola, me llamo Carla\n"
     ]
    }
   ],
   "source": [
    "print(\"Hola, me llamo Carla\") #Para mostrar información por pantalla"
   ]
  },
  {
   "cell_type": "code",
   "execution_count": 5,
   "metadata": {},
   "outputs": [
    {
     "name": "stdout",
     "output_type": "stream",
     "text": [
      "5\n"
     ]
    }
   ],
   "source": [
    "x = 5\n",
    "print(x)"
   ]
  },
  {
   "cell_type": "code",
   "execution_count": 6,
   "metadata": {},
   "outputs": [
    {
     "name": "stdout",
     "output_type": "stream",
     "text": [
      "El valor de la variable x es:5\n"
     ]
    }
   ],
   "source": [
    "print(\"El valor de la variable x es:\"+ str(x))\n",
    "#Con el str(x) se ha hecho un \"casting\", es decir, la transformación de una variable con un tipo de dato a otro tipo\n",
    "#tipo de dato, en este caso de un dato numérico entero a string"
   ]
  },
  {
   "cell_type": "markdown",
   "metadata": {},
   "source": [
    "### Pedir datos al usuario"
   ]
  },
  {
   "cell_type": "code",
   "execution_count": 7,
   "metadata": {},
   "outputs": [
    {
     "name": "stdout",
     "output_type": "stream",
     "text": [
      "Introduce aquí tu nombre: Carla\n"
     ]
    }
   ],
   "source": [
    "texto = input(\"Introduce aquí tu nombre: \")"
   ]
  },
  {
   "cell_type": "code",
   "execution_count": 9,
   "metadata": {},
   "outputs": [
    {
     "data": {
      "text/plain": [
       "'Carla'"
      ]
     },
     "execution_count": 9,
     "metadata": {},
     "output_type": "execute_result"
    }
   ],
   "source": [
    "texto #Para asignar un valor, en este caso un valor string,directamente a una variable a través de la entrada input"
   ]
  },
  {
   "cell_type": "code",
   "execution_count": 10,
   "metadata": {},
   "outputs": [
    {
     "name": "stdout",
     "output_type": "stream",
     "text": [
      "Introduce aquí tu edad 24\n"
     ]
    }
   ],
   "source": [
    "numero = int(input(\"Introduce aquí tu edad \")) #Se hace un casting del input a tipo entero, para poder hacer \n",
    "                                               #cálculos, ya que sino toma el valor como un string"
   ]
  },
  {
   "cell_type": "code",
   "execution_count": 11,
   "metadata": {},
   "outputs": [
    {
     "data": {
      "text/plain": [
       "24"
      ]
     },
     "execution_count": 11,
     "metadata": {},
     "output_type": "execute_result"
    }
   ],
   "source": [
    "numero"
   ]
  },
  {
   "cell_type": "code",
   "execution_count": 13,
   "metadata": {},
   "outputs": [
    {
     "data": {
      "text/plain": [
       "53"
      ]
     },
     "execution_count": 13,
     "metadata": {},
     "output_type": "execute_result"
    }
   ],
   "source": [
    "2*numero + 5"
   ]
  },
  {
   "cell_type": "code",
   "execution_count": 22,
   "metadata": {},
   "outputs": [],
   "source": [
    "x = 5"
   ]
  },
  {
   "cell_type": "code",
   "execution_count": 23,
   "metadata": {},
   "outputs": [
    {
     "name": "stdout",
     "output_type": "stream",
     "text": [
      "5\n"
     ]
    }
   ],
   "source": [
    "print(x)"
   ]
  },
  {
   "cell_type": "code",
   "execution_count": 24,
   "metadata": {},
   "outputs": [],
   "source": [
    "x = 'j'"
   ]
  },
  {
   "cell_type": "code",
   "execution_count": 25,
   "metadata": {},
   "outputs": [
    {
     "name": "stdout",
     "output_type": "stream",
     "text": [
      "j\n"
     ]
    }
   ],
   "source": [
    "print(x)"
   ]
  },
  {
   "cell_type": "code",
   "execution_count": 26,
   "metadata": {},
   "outputs": [],
   "source": [
    "x = 3.1415"
   ]
  },
  {
   "cell_type": "code",
   "execution_count": 27,
   "metadata": {},
   "outputs": [
    {
     "name": "stdout",
     "output_type": "stream",
     "text": [
      "3.1415\n"
     ]
    }
   ],
   "source": [
    "print(x)"
   ]
  },
  {
   "cell_type": "code",
   "execution_count": 28,
   "metadata": {},
   "outputs": [],
   "source": [
    "x = True"
   ]
  },
  {
   "cell_type": "code",
   "execution_count": 29,
   "metadata": {},
   "outputs": [
    {
     "name": "stdout",
     "output_type": "stream",
     "text": [
      "True\n"
     ]
    }
   ],
   "source": [
    "print(x)"
   ]
  },
  {
   "cell_type": "code",
   "execution_count": 30,
   "metadata": {},
   "outputs": [],
   "source": [
    "x = 'h'"
   ]
  },
  {
   "cell_type": "code",
   "execution_count": 31,
   "metadata": {},
   "outputs": [
    {
     "name": "stdout",
     "output_type": "stream",
     "text": [
      "La variable x ahora se trata de un caracter: h\n"
     ]
    }
   ],
   "source": [
    "print(\"La variable x ahora se trata de un caracter: \"+ x)"
   ]
  },
  {
   "cell_type": "code",
   "execution_count": 32,
   "metadata": {},
   "outputs": [],
   "source": [
    "x = 5"
   ]
  },
  {
   "cell_type": "code",
   "execution_count": 33,
   "metadata": {},
   "outputs": [
    {
     "name": "stdout",
     "output_type": "stream",
     "text": [
      "La variable x es entera: 5\n"
     ]
    }
   ],
   "source": [
    "print(\"La variable x es entera: \"+ str(x))"
   ]
  },
  {
   "cell_type": "code",
   "execution_count": 34,
   "metadata": {},
   "outputs": [],
   "source": [
    "x = \"La variable x es ahora una cadena de caracteres (string)\""
   ]
  },
  {
   "cell_type": "code",
   "execution_count": 35,
   "metadata": {},
   "outputs": [
    {
     "name": "stdout",
     "output_type": "stream",
     "text": [
      "La variable x es ahora una cadena de caracteres (string)\n"
     ]
    }
   ],
   "source": [
    "print(x)"
   ]
  },
  {
   "cell_type": "markdown",
   "metadata": {},
   "source": [
    "# Operadores de decisión\n",
    "#### Para manejar qué linea de código tiene que ejecutarse bajo ciertas condiciones"
   ]
  },
  {
   "cell_type": "code",
   "execution_count": null,
   "metadata": {},
   "outputs": [],
   "source": [
    "si condición booleana:\n",
    "    código que se ejecuta si la condición es verdad (TRUE)\n",
    "    ..\n",
    "    ..\n",
    "    ..\n",
    "siguente código que se ejecuta siempre"
   ]
  },
  {
   "cell_type": "code",
   "execution_count": 2,
   "metadata": {},
   "outputs": [
    {
     "name": "stdout",
     "output_type": "stream",
     "text": [
      "Escribe un número 5\n"
     ]
    }
   ],
   "source": [
    "x = int(input(\"Escribe un número \"))"
   ]
  },
  {
   "cell_type": "code",
   "execution_count": 3,
   "metadata": {},
   "outputs": [
    {
     "name": "stdout",
     "output_type": "stream",
     "text": [
      "Has escrito el número 5\n"
     ]
    }
   ],
   "source": [
    "if x == 5:\n",
    "    print(\"Has escrito el número 5\")"
   ]
  },
  {
   "cell_type": "code",
   "execution_count": 1,
   "metadata": {},
   "outputs": [
    {
     "name": "stdout",
     "output_type": "stream",
     "text": [
      "Escribe un número: 5\n",
      "Has escrito un número menor que 10 y mayor o igual a 5\n"
     ]
    }
   ],
   "source": [
    "x = int(input(\"Escribe un número: \"))\n",
    "if x < 5:\n",
    "    print(\"Has escrito un número menor que 5\")\n",
    "elif x < 10:                                   #si no (elif = else if)\n",
    "    print(\"Has escrito un número menor que 10 y mayor o igual a 5\")\n",
    "else:\n",
    "    print(\"El número que has escrito es mayor o igual que 10\")"
   ]
  },
  {
   "cell_type": "code",
   "execution_count": 13,
   "metadata": {},
   "outputs": [
    {
     "name": "stdout",
     "output_type": "stream",
     "text": [
      "Escribe un número: 8\n",
      "Has escrito un número en el rango de (0,10)\n"
     ]
    }
   ],
   "source": [
    "x = int(input(\"Escribe un número: \"))\n",
    "if x>0 and x<10:\n",
    "    print(\"Has escrito un número en el rango de (0,10)\")"
   ]
  },
  {
   "cell_type": "code",
   "execution_count": 17,
   "metadata": {},
   "outputs": [
    {
     "name": "stdout",
     "output_type": "stream",
     "text": [
      "Escribe un número: -30\n",
      "Tu número escrito no se encuentra dentro del rango (0,10)\n"
     ]
    }
   ],
   "source": [
    "x = int(input(\"Escribe un número: \"))\n",
    "if x<0 or x>10:\n",
    "    print(\"Tu número escrito no se encuentra dentro del rango (0,10)\")"
   ]
  },
  {
   "cell_type": "code",
   "execution_count": 1,
   "metadata": {
    "scrolled": true
   },
   "outputs": [
    {
     "name": "stdout",
     "output_type": "stream",
     "text": [
      "Escribe un número: 15\n",
      "El número que has escrito es positivo\n"
     ]
    }
   ],
   "source": [
    "#Ejercicio 1 Tarea2 Repaso general de Python\n",
    "x = float(input(\"Escribe un número: \"))\n",
    "if x < 0:\n",
    "    print(\"El número que has escrito es negativo\")\n",
    "elif x > 0:\n",
    "    print(\"El número que has escrito es positivo\")\n",
    "else:\n",
    "    print(\"El número que has escrito no tiene signo positivo ni negativo\")"
   ]
  },
  {
   "cell_type": "code",
   "execution_count": 2,
   "metadata": {},
   "outputs": [
    {
     "name": "stdout",
     "output_type": "stream",
     "text": [
      "Escribe un número: 123569\n",
      "El número que has escrito no se encuentra dentro del rango(-5,5)\n"
     ]
    }
   ],
   "source": [
    "#Ejercicio 2 Tarea2 \n",
    "x = float(input(\"Escribe un número: \"))\n",
    "if x>=-5 and x<=5:\n",
    "    print(\"El número que has escrito se encuentra en el rango de (-5,5)\")\n",
    "elif x<-5 or x>5:\n",
    "    print(\"El número que has escrito no se encuentra dentro del rango(-5,5)\")"
   ]
  },
  {
   "cell_type": "code",
   "execution_count": 3,
   "metadata": {},
   "outputs": [
    {
     "name": "stdout",
     "output_type": "stream",
     "text": [
      "Escribe la coordenada del punto en el eje x: 166666666\n",
      "Escribe la coordenada del punto en el eje y: 4564564564\n",
      "El punto se encuentra en el primer cuadrante\n"
     ]
    }
   ],
   "source": [
    "#Ejercicio 3 Tarea2\n",
    "x = float(input(\"Escribe la coordenada del punto en el eje x: \"))\n",
    "y = float(input(\"Escribe la coordenada del punto en el eje y: \"))\n",
    "if x>0 and y>0:\n",
    "    print(\"El punto se encuentra en el primer cuadrante\")\n",
    "if x<0 and y>0:\n",
    "    print(\"El punto se encuentra en el segundo cuadrante\")\n",
    "if x<0 and y<0:\n",
    "    print(\"El punto se encuentra en el tercer cuadrante\")\n",
    "if x>0 and y<0:\n",
    "    print(\"El punto se encuentra en el cuarto cuadrante\")"
   ]
  },
  {
   "cell_type": "code",
   "execution_count": 4,
   "metadata": {},
   "outputs": [
    {
     "name": "stdout",
     "output_type": "stream",
     "text": [
      "Escribe el primer número entero:998\n",
      "Escribe el segundo número entero: 678\n",
      "El cociente de la división entera es 1\n",
      "El resto de la división entera es 320\n"
     ]
    }
   ],
   "source": [
    "#Ejercicio 4 Tarea2\n",
    "x = int(input(\"Escribe el primer número entero:\"))\n",
    "y = int(input(\"Escribe el segundo número entero: \"))\n",
    "cociente = x//y\n",
    "resto = x%y\n",
    "print(\"El cociente de la división entera es \"+ str(cociente))\n",
    "print(\"El resto de la división entera es \"+ str(resto))\n"
   ]
  },
  {
   "cell_type": "code",
   "execution_count": 2,
   "metadata": {
    "scrolled": true
   },
   "outputs": [
    {
     "name": "stdout",
     "output_type": "stream",
     "text": [
      "Escribe un número entero: 108\n",
      "108 no es un número cuadrado perfecto\n"
     ]
    }
   ],
   "source": [
    "#Ejercicio 5 Tarea2\n",
    "#Para saber si un número entero es un cuadrado perfecto tengo que hacer su raíz cuadrada, \n",
    "#luego quitarle los decimales con la función math.trunc, y elevar ese número sin decimales al cuadrado.\n",
    "#Entonces comparar si el número elevado al cuadrado es el mismo que el número entero introducido para saber si es cuadrado perfecto.\n",
    "#Esto último se consigue gracias a la función math.isclose\n",
    "import math\n",
    "x = int(input(\"Escribe un número entero: \"))\n",
    "if math.isclose(math.trunc(math.sqrt(x))**2, x) == True:\n",
    "    print(str(x)+\" es un número cuadrado perfecto\")\n",
    "else:\n",
    "    print(str(x)+\" no es un número cuadrado perfecto\")\n"
   ]
  },
  {
   "cell_type": "code",
   "execution_count": null,
   "metadata": {},
   "outputs": [],
   "source": [
    "#Ejercicio 6 Tarea2\n",
    "#Para saber si un número es divisible entre 4, al hacer su división tiene que \n",
    "#quedar de resto 0. Pero además, si queremos saber si es bisiesto o no, \n",
    "#no tiene que ser múltipo de 100 a excepción de si es múltiplo de 400.\n",
    "#Resumen año bisiesto: divisible entre 4, no múltiplo de 100 pero sí múltiplo de 400.\n",
    "x = int(input(\"Escribe un número entero: \"))\n",
    "if x%4 == 0 and x%100 != 0 or x%400 == 0:\n",
    "    print(str(x)+\" se corresponde con un año bisiesto\")\n",
    "else:\n",
    "    print(str(x)+\" se corresponde con un año no bisiesto\")"
   ]
  },
  {
   "cell_type": "code",
   "execution_count": null,
   "metadata": {},
   "outputs": [],
   "source": [
    "#Otra forma de hacer el ejercicio 6:\n",
    "numero = int(input(\"Escribe el numero entero:\"))\n",
    "\n",
    "Resto = math.fmod(numero, 4)\n",
    "\n",
    "if Resto == 0:\n",
    "\n",
    "    Resto1 = math.fmod(numero, 100)\n",
    "\n",
    "    Resto2 = math.fmod(numero, 400)\n",
    "\n",
    "    if Resto1 == 0 and Resto2 != 0:\n",
    "\n",
    "        print(\"Ese numero no corresponde a ningun año biciesto\")\n",
    "\n",
    "    else:\n",
    "\n",
    "        print(\"Ese numero es de un año biciesto\")\n",
    "\n",
    "else:\n",
    "\n",
    "    print(\"Ese numero no corresponde a ningun año biciesto\")"
   ]
  },
  {
   "cell_type": "code",
   "execution_count": 1,
   "metadata": {},
   "outputs": [
    {
     "name": "stdout",
     "output_type": "stream",
     "text": [
      "Escribe un número (1-8): 10\n",
      "Escribe una letra (a-h): a\n",
      "Asegúrate de que has añadido un número del 1 al 8 y una letra de la a a la h\n"
     ]
    }
   ],
   "source": [
    "#Ejercicio 7 Tarea2\n",
    "x = int(input(\"Escribe un número (1-8): \"))\n",
    "y = str(input(\"Escribe una letra (a-h): \"))\n",
    "pairLetters = ['b','d','f','h']\n",
    "oddLetters = ['a','c','e','g']\n",
    "pairNumbers = [2,4,6,8]\n",
    "oddNumbers = [1,3,5,7]\n",
    "if (x in pairNumbers and y in oddLetters) or (x in oddNumbers and y in pairLetters):\n",
    "    print(str(x)+str(y)+\" se encuentra en una casilla blanca\")\n",
    "elif (x in oddNumbers and y in oddLetters) or (x in pairNumbers and y in pairLetters):\n",
    "    print(str(x)+str(y)+\" se encuentra en una casilla negra\")\n",
    "else:\n",
    "    print(\"Asegúrate de que has añadido un número del 1 al 8 y una letra de la a a la h\")"
   ]
  },
  {
   "cell_type": "code",
   "execution_count": 1,
   "metadata": {},
   "outputs": [
    {
     "name": "stdout",
     "output_type": "stream",
     "text": [
      "Escribe una letra: a\n",
      "Escribe un número: 8\n",
      "La casilla es blanca\n"
     ]
    }
   ],
   "source": [
    "#Otra forma de hacer el ejercicio 7:\n",
    "def casillabn(a, n):\n",
    "\n",
    "    letras = {\"a\":1, \"b\":2, \"c\":3, \"d\":4, \"e\":5, \"f\":6, \"g\":7, \"h\":8}\n",
    "\n",
    "    numeros = [1, 2, 3, 4, 5, 6, 7, 8]\n",
    "\n",
    "    if (letras[a] + numeros[n-1]) % 2 == 0:\n",
    "\n",
    "        casilla = \"negra\"\n",
    "\n",
    "    else:\n",
    "\n",
    "        casilla = \"blanca\"\n",
    "\n",
    "    print(\"La casilla es {}\".format(casilla))\n",
    "\n",
    "   \n",
    "\n",
    "letra = str(input(\"Escribe una letra: \"))\n",
    "\n",
    "numero = int(input(\"Escribe un número: \"))\n",
    "\n",
    "\n",
    "casillabn(letra, numero)"
   ]
  },
  {
   "cell_type": "code",
   "execution_count": null,
   "metadata": {},
   "outputs": [],
   "source": []
  },
  {
   "cell_type": "code",
   "execution_count": null,
   "metadata": {},
   "outputs": [],
   "source": []
  }
 ],
 "metadata": {
  "kernelspec": {
   "display_name": "Python 3",
   "language": "python",
   "name": "python3"
  },
  "language_info": {
   "codemirror_mode": {
    "name": "ipython",
    "version": 3
   },
   "file_extension": ".py",
   "mimetype": "text/x-python",
   "name": "python",
   "nbconvert_exporter": "python",
   "pygments_lexer": "ipython3",
   "version": "3.7.1"
  }
 },
 "nbformat": 4,
 "nbformat_minor": 2
}

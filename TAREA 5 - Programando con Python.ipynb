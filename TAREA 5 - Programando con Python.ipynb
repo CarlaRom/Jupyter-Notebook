{
 "cells": [
  {
   "cell_type": "markdown",
   "metadata": {},
   "source": [
    "# Tarea 5 - Preguntas\n",
    "1. Crea una función que reciba los tres coeficientes a, b y c para resolver una ecuación de segundo grado. Muestra la solución por pantalla y ayúdate de la librería Math para acceder a la función raíz cuadrada.\n",
    "\n",
    "2. Crea una función que lea una frase de teclado y nos diga si es o no un palíndromo (frase que se lee igual de izquierda a derecha o al revés como por ejemplo La ruta nos aportó otro paso natural.)\n",
    "\n",
    "3. Crea un diccionario que tenga por claves los números del 1 al 10 y como valores sus raíces cuadradas\n",
    "\n",
    "4. Crea un diccionario que tenga como claves las letras del alfabeto castellano y como valores los símbolos del código morse (los tienes todos en la Wikipedia). A continuación crea un programa que lea una frase del teclado y te la convierta a Morse utilizando el diccionario anterior.\n",
    "\n",
    "5. Crea una función que dados dos diccionarios nos diga que claves están presentes en ambos.\n",
    "\n",
    "6. Crea una función que dado un número N nos diga si es primo o no (tiene que ir dividiendo por todos los números x comprendidos entre 2 y el propio número N menos uno y ver si el cociente de N/x tiene resto entero o no).\n",
    "\n",
    "7. Investiga la documentación de la clase string y crea un método que lea una frase del teclado y escriba la primera letra de cada palabra en Mayúscula.\n",
    "\n",
    "8. Crea una función que calcule el máximo común divisor de dos números introducidos por el usuario por teclado.\n",
    "\n",
    "9. Investiga el Cifrado del César y crea una función que lo reproduzca en Python. Cada letra del mensaje original se desplaza tres posiciones en el alfabeto estándar. La A se convierte en la D, la B se convierte en la E, la C se convierte en la F... y cuando se acaba el alfabeto se le vuelve a dar la vuelta: la X se convierte en la A, la Y en la B y la X en la C. Los números no sufren ninguna modificación.\n",
    "\n",
    "10. Dado una lista de nombres de persona, escribe un algoritmo que los ordene de tres formas diferentes:\n",
    "\n",
    "A. De forma alfabética\n",
    "\n",
    "B. De forma alfabética invertida\n",
    "\n",
    "C. De nombre más corto al más largo.\n"
   ]
  },
  {
   "cell_type": "code",
   "execution_count": 48,
   "metadata": {},
   "outputs": [],
   "source": [
    "#Ejercicio 1\n",
    "import math\n",
    "def SegundoGrado(a,b,c):\n",
    "    d = (b**2)-(4*a*c)\n",
    "    if d < 0:\n",
    "        print (\"La ecuación no tiene solución real\")\n",
    "    elif d == 0:\n",
    "        x = (-b+math.sqrt(d))/(2*a)\n",
    "        print (\"La ecuación tiene una solución: \", round(x,1))\n",
    "    else:\n",
    "        x1 = (-b+math.sqrt(d))/(2*a)\n",
    "        x2 = (-b-math.sqrt(d))/(2*a)\n",
    "        print (\"La ecuación tiene dos soluciones: \", round(x1,2), \"o\", round(x2,2))"
   ]
  },
  {
   "cell_type": "code",
   "execution_count": 49,
   "metadata": {
    "scrolled": true
   },
   "outputs": [
    {
     "name": "stdout",
     "output_type": "stream",
     "text": [
      "La ecuación tiene dos soluciones:  3.0 o 2.0\n"
     ]
    }
   ],
   "source": [
    "SegundoGrado(1,-5,6)"
   ]
  },
  {
   "cell_type": "code",
   "execution_count": 17,
   "metadata": {},
   "outputs": [
    {
     "name": "stdout",
     "output_type": "stream",
     "text": [
      "Introduce a: 1\n",
      "Introduce b: 56\n",
      "Introduce c: 1\n",
      "La ecuación tiene dos soluciones:  -0.02 o -55.98\n"
     ]
    }
   ],
   "source": [
    "#Ejercicio 1 (por teclado, sin definir la función)\n",
    "import math\n",
    "a = int(input(\"Introduce a: \"))\n",
    "b = int(input(\"Introduce b: \"))\n",
    "c = int(input(\"Introduce c: \"))\n",
    "\n",
    "d = (b**2)-(4*a*c) \n",
    "\n",
    "if d < 0:\n",
    "    print (\"La ecuación no tiene solución real\")\n",
    "elif d == 0:\n",
    "    x = (-b+math.sqrt(d))/(2*a)\n",
    "    print (\"La ecuación tiene una solución: \", round(x,1))\n",
    "else:\n",
    "    x1 = (-b+math.sqrt(d))/(2*a)\n",
    "    x2 = (-b-math.sqrt(d))/(2*a)\n",
    "    print (\"La ecuación tiene dos soluciones: \", round(x1,2), \"o\", round(x2,2))"
   ]
  },
  {
   "cell_type": "code",
   "execution_count": null,
   "metadata": {},
   "outputs": [],
   "source": [
    "help(math)"
   ]
  },
  {
   "cell_type": "code",
   "execution_count": 7,
   "metadata": {},
   "outputs": [
    {
     "name": "stdout",
     "output_type": "stream",
     "text": [
      "Introduce una frase: 123321\n",
      "Es un palíndromo\n"
     ]
    }
   ],
   "source": [
    "#Ejercicio 2. Crea una función que lea una frase de teclado y nos diga si es o no un palíndromo \n",
    "#(frase que se lee igual de izquierda a derecha o al revés como por ejemplo La ruta nos aportó otro paso natural.)\n",
    "\n",
    "frase = str(input(\"Introduce una frase: \"))\n",
    "fraseL = list(frase.replace(\" \",\"\"))\n",
    "palindromo = fraseL[::-1]\n",
    "if fraseL == palindromo:\n",
    "    print(\"Es un palíndromo\")\n",
    "else:\n",
    "    print(\"No es un palíndromo\")\n",
    "    \n",
    "\n",
    "    "
   ]
  },
  {
   "cell_type": "code",
   "execution_count": 83,
   "metadata": {},
   "outputs": [],
   "source": [
    "letras = ['d','i','m','e']"
   ]
  },
  {
   "cell_type": "code",
   "execution_count": 85,
   "metadata": {},
   "outputs": [
    {
     "data": {
      "text/plain": [
       "['e', 'm', 'i', 'd']"
      ]
     },
     "execution_count": 85,
     "metadata": {},
     "output_type": "execute_result"
    }
   ],
   "source": [
    "invertido = letras[::-1] #Hace una copia de la lista original\n",
    "invertido"
   ]
  },
  {
   "cell_type": "code",
   "execution_count": 86,
   "metadata": {},
   "outputs": [
    {
     "data": {
      "text/plain": [
       "['e', 'm', 'i', 'd']"
      ]
     },
     "execution_count": 86,
     "metadata": {},
     "output_type": "execute_result"
    }
   ],
   "source": [
    "list.reverse(letras) #Modifica la lista original\n",
    "letras"
   ]
  },
  {
   "cell_type": "code",
   "execution_count": null,
   "metadata": {},
   "outputs": [],
   "source": [
    "#EJEMPLO EJERCICIO 2 OTROS COMPAÑEROS\n",
    "X=input(\"Escribe una frase sin tildes: \")\n",
    "X1=X.lower()\n",
    "def palindromo(X1):\n",
    "    y=[]\n",
    "    for i in X1:\n",
    "        if i!=\" \":\n",
    "            y.append(i)\n",
    "    z=y.copy()\n",
    "    z.reverse()\n",
    "    if y==z:\n",
    "        print(\"La frase es un Plalíndronomo\")\n",
    "    else: print(\"La frase NO es un Plalíndronomo\")\n",
    "palindromo(X1)"
   ]
  },
  {
   "cell_type": "code",
   "execution_count": 93,
   "metadata": {},
   "outputs": [],
   "source": [
    "#Ejercicio 3. Crea un diccionario que tenga por claves los números del 1 al 10 y como valores sus raíces cuadradas\n",
    "import math\n",
    "RaizCuadrada = {\n",
    "    \"1\": math.sqrt(1),\n",
    "    \"2\": math.sqrt(2),\n",
    "    \"3\": math.sqrt(3),\n",
    "    \"4\": math.sqrt(4),\n",
    "    \"5\": math.sqrt(5),\n",
    "    \"6\": math.sqrt(6),\n",
    "    \"7\": math.sqrt(7),\n",
    "    \"8\": math.sqrt(8),\n",
    "    \"9\": math.sqrt(9),\n",
    "    \"10\": math.sqrt(10)\n",
    "}\n"
   ]
  },
  {
   "cell_type": "code",
   "execution_count": 94,
   "metadata": {
    "scrolled": true
   },
   "outputs": [
    {
     "data": {
      "text/plain": [
       "{'1': 1.0,\n",
       " '2': 1.4142135623730951,\n",
       " '3': 1.7320508075688772,\n",
       " '4': 2.0,\n",
       " '5': 2.23606797749979,\n",
       " '6': 2.449489742783178,\n",
       " '7': 2.6457513110645907,\n",
       " '8': 2.8284271247461903,\n",
       " '9': 3.0,\n",
       " '10': 3.1622776601683795}"
      ]
     },
     "execution_count": 94,
     "metadata": {},
     "output_type": "execute_result"
    }
   ],
   "source": [
    "RaizCuadrada"
   ]
  },
  {
   "cell_type": "code",
   "execution_count": null,
   "metadata": {},
   "outputs": [],
   "source": [
    "#EJEMPLO POR OTROS COMPAÑEROS EJERCICIO 3\n",
    "#Utilizando la libreria math\n",
    "import math\n",
    "Dic={}\n",
    "for i in range(1,11):\n",
    "    j=math.sqrt(i)\n",
    "    Dic[i]=j\n",
    "print(Dic)\n",
    "\n",
    "#utilizando la libreria numpy\n",
    "\n",
    "import numpy as np\n",
    "Dic={}\n",
    "for i in range(1,11):\n",
    "    j=np.sqrt(i)\n",
    "    Dic[i]=j\n",
    "print(Dic)"
   ]
  },
  {
   "cell_type": "code",
   "execution_count": null,
   "metadata": {},
   "outputs": [],
   "source": [
    "#Ejercicio 4. Crea un diccionario que tenga como claves las letras del alfabeto castellano y como valores los símbolos del código morse\n",
    "#(los tienes todos en la Wikipedia). A continuación crea un programa que lea una frase del teclado y te la convierta a Morse utilizando \n",
    "#el diccionario anterior."
   ]
  },
  {
   "cell_type": "code",
   "execution_count": 8,
   "metadata": {},
   "outputs": [
    {
     "name": "stdout",
     "output_type": "stream",
     "text": [
      "Escribe una frase: hola como estas\n",
      ".... --- .-.. .- -.-. --- -- --- . ... - .- ... "
     ]
    }
   ],
   "source": [
    "Morse = {\n",
    "    \"a\": '.-',\n",
    "    \"b\": '-...',\n",
    "    \"c\": '-.-.',\n",
    "    \"d\": '-..',\n",
    "    \"e\": '.',\n",
    "    \"f\": '..-.',\n",
    "    \"g\": '--.',\n",
    "    \"h\": '....',\n",
    "    \"i\": '..',\n",
    "    \"j\": '.---',\n",
    "    \"k\": '-.-',\n",
    "    \"l\": '.-..',\n",
    "    \"m\": '--',\n",
    "    \"n\": '-.',\n",
    "    \"ñ\": '--.--',\n",
    "    \"o\": '---',\n",
    "    \"p\": '.--.',\n",
    "    \"q\": '--.-',\n",
    "    \"r\": '.-.',\n",
    "    \"s\": '...',\n",
    "    \"t\": '-',\n",
    "    \"u\": '..-',\n",
    "    \"v\": '...-',\n",
    "    \"w\": '.--',\n",
    "    \"x\": '-..-',\n",
    "    \"y\": '-.--',\n",
    "    \"z\": '--..'\n",
    "}\n",
    "fraseteclado = str(input(\"Escribe una frase: \"))\n",
    "frasesinespacios = list(fraseteclado.replace(\" \",\"\"))\n",
    "Morseclaves = Morse.keys()\n",
    "for letra in frasesinespacios:\n",
    "    if letra in Morseclaves:\n",
    "        mensajemorse = Morse[letra]\n",
    "        print(mensajemorse, end=' ')\n",
    "    else:\n",
    "        print(\"Asegúrate de que el mensaje contiene las letras del alfabeto en minúscula\")\n"
   ]
  },
  {
   "cell_type": "code",
   "execution_count": 100,
   "metadata": {},
   "outputs": [
    {
     "data": {
      "text/plain": [
       "{'a': '.-',\n",
       " 'b': '-...',\n",
       " 'c': '-.-.',\n",
       " 'd': '-..',\n",
       " 'e': '.',\n",
       " 'f': '..-.',\n",
       " 'g': '--.',\n",
       " 'h': '....',\n",
       " 'i': '..',\n",
       " 'j': '.---',\n",
       " 'k': '-.-',\n",
       " 'l': '.-..',\n",
       " 'm': '--',\n",
       " 'n': '-.',\n",
       " 'ñ': '--.--',\n",
       " 'o': '---',\n",
       " 'p': '.--.',\n",
       " 'q': '--.-',\n",
       " 'r': '.-.',\n",
       " 's': '...',\n",
       " 't': '-',\n",
       " 'u': '..-',\n",
       " 'v': '...-',\n",
       " 'w': '.--',\n",
       " 'x': '-..-',\n",
       " 'y': '-.--',\n",
       " 'z': '--..'}"
      ]
     },
     "execution_count": 100,
     "metadata": {},
     "output_type": "execute_result"
    }
   ],
   "source": [
    "Morse"
   ]
  },
  {
   "cell_type": "code",
   "execution_count": 2,
   "metadata": {
    "scrolled": true
   },
   "outputs": [
    {
     "name": "stdout",
     "output_type": "stream",
     "text": [
      "Escribe una frase: hola como estas\n"
     ]
    }
   ],
   "source": [
    "fraseteclado = str(input(\"Escribe una frase: \"))"
   ]
  },
  {
   "cell_type": "code",
   "execution_count": 3,
   "metadata": {
    "scrolled": false
   },
   "outputs": [
    {
     "data": {
      "text/plain": [
       "['h', 'o', 'l', 'a', 'c', 'o', 'm', 'o', 'e', 's', 't', 'a', 's']"
      ]
     },
     "execution_count": 3,
     "metadata": {},
     "output_type": "execute_result"
    }
   ],
   "source": [
    "frasesinespacios = list(fraseteclado.replace(\" \",\"\"))\n",
    "frasesinespacios"
   ]
  },
  {
   "cell_type": "code",
   "execution_count": 7,
   "metadata": {},
   "outputs": [],
   "source": [
    "Morseclaves = Morse.keys()\n",
    "Morsevalores = Morse.values()"
   ]
  },
  {
   "cell_type": "code",
   "execution_count": 20,
   "metadata": {
    "scrolled": false
   },
   "outputs": [
    {
     "name": "stdout",
     "output_type": "stream",
     "text": [
      ".... --- .-.. .- -.-. --- -- --- . ... - .- ... "
     ]
    }
   ],
   "source": [
    "for letra in frasesinespacios:\n",
    "    if letra in Morseclaves:\n",
    "        mensajemorse = Morse[letra]\n",
    "    print(mensajemorse, end=' ')"
   ]
  },
  {
   "cell_type": "code",
   "execution_count": 27,
   "metadata": {},
   "outputs": [
    {
     "data": {
      "text/plain": [
       "True"
      ]
     },
     "execution_count": 27,
     "metadata": {},
     "output_type": "execute_result"
    }
   ],
   "source": [
    "'a' in Morse.keys()"
   ]
  },
  {
   "cell_type": "code",
   "execution_count": 16,
   "metadata": {},
   "outputs": [
    {
     "data": {
      "text/plain": [
       "'.-'"
      ]
     },
     "execution_count": 16,
     "metadata": {},
     "output_type": "execute_result"
    }
   ],
   "source": [
    "Morse['a']"
   ]
  },
  {
   "cell_type": "code",
   "execution_count": null,
   "metadata": {},
   "outputs": [],
   "source": [
    "#EJEMPLO POR OTROS COMPAÑEROS EJERCICIO 4\n",
    "morse={'A':'· — ','B':'— · · · ','C':'— · — · ','CH':'— — — — ','D':'— · · ',\n",
    "'E':'· ','F':'· · — · ','G':'— — · ','H':'· · · · ','I':'· · ','J':'· — — — ',\n",
    "'K':'— · — ','L':'· — · · ', 'M':'— — ','N':'— · ','Ñ':'— — · — — ',\n",
    "'O':'— — — ','P':'· — — · ','Q': '— — · — ','R':'· — · ','S':'· · · ',\n",
    "'T':'— ','U':'· · — ','V':'· · · — ','W':'· — — ','X':'— · · — ',\n",
    "'Y':'— · — — ','Z':' — — · · ',  '0':'— — — — — ','1':'· — — — — ',\n",
    "'2':'· · — — — ','3':'· · · — — ','4':'· · · · — ','5':'· · · · · ',\n",
    "'6':'— · · · · ','7':'— — · · · ','8':'— — — · · ','9':'— — — — · ',\n",
    "'.':'· — · — · — ',',':'— · — · — — ','?':'· · — — · · ',\n",
    "'!':'! — — · · — — ',' ':\"   \"\n",
    "      }\n",
    "x=input(\"Escribe una frase\")\n",
    "x1=x.upper()\n",
    "y=[]\n",
    "for l in x1:\n",
    "    y.append(morse[l])\n",
    "y1=\"  \".join(y)\n",
    "print(y1)"
   ]
  },
  {
   "cell_type": "code",
   "execution_count": 46,
   "metadata": {},
   "outputs": [
    {
     "name": "stdout",
     "output_type": "stream",
     "text": [
      "toalla\n",
      "gafas\n",
      "esterilla\n"
     ]
    }
   ],
   "source": [
    "#Ejercicio 5. Crea una función que dados dos diccionarios nos diga que claves están presentes en ambos.\n",
    "Dic1 = {\"sombrilla\": 12, \"bañador\":14, \"toalla\": 7, \"crema\": 15, \"gafas\": 20, \"comida\": 40, \"esterilla\": 30}\n",
    "Dic2 = {\"gafas\": 22, \"bikini\": 16, \"palas\": 8, \"toalla\": 10, \"esterilla\": 9, \"pelota\": 5}\n",
    "for clave in Dic1.keys(): \n",
    "    if clave in Dic2.keys():\n",
    "        print(clave)\n",
    "    "
   ]
  },
  {
   "cell_type": "code",
   "execution_count": 31,
   "metadata": {},
   "outputs": [
    {
     "data": {
      "text/plain": [
       "{'sombrilla': 12, 'bañador': 14, 'toalla': 7, 'crema': 15, 'gafas': 20}"
      ]
     },
     "execution_count": 31,
     "metadata": {},
     "output_type": "execute_result"
    }
   ],
   "source": [
    "Dic1"
   ]
  },
  {
   "cell_type": "code",
   "execution_count": 33,
   "metadata": {
    "scrolled": true
   },
   "outputs": [
    {
     "data": {
      "text/plain": [
       "{'gafas': 22, 'bikini': 16, 'palas': 8, 'toalla': 10, 'esterilla': 9}"
      ]
     },
     "execution_count": 33,
     "metadata": {},
     "output_type": "execute_result"
    }
   ],
   "source": [
    "Dic2"
   ]
  },
  {
   "cell_type": "code",
   "execution_count": 32,
   "metadata": {
    "scrolled": false
   },
   "outputs": [],
   "source": [
    "#Ejercicio 6. Crea una función que dado un número N nos diga si es primo o no (tiene que ir dividiendo por todos los números x\n",
    "#comprendidos entre 2 y el propio número N menos uno y ver si el cociente de N/x tiene resto entero o no).\n",
    "def primos(n):\n",
    "    if n <= 2:\n",
    "        print(n, \"no es un número primo\")\n",
    "    for x in range(2,(n-1)):\n",
    "        if (n%x) == 0:\n",
    "            print(n, \"no es un número primo\")\n",
    "            break\n",
    "    else:\n",
    "        print(n, \"es un número primo\")"
   ]
  },
  {
   "cell_type": "code",
   "execution_count": 39,
   "metadata": {
    "scrolled": true
   },
   "outputs": [
    {
     "name": "stdout",
     "output_type": "stream",
     "text": [
      "3 es un número primo\n"
     ]
    }
   ],
   "source": [
    "primos(3)"
   ]
  },
  {
   "cell_type": "code",
   "execution_count": null,
   "metadata": {},
   "outputs": [],
   "source": [
    "#EJEMPLO DE OTROS COMPAÑEROS EJERCICIO 6\n",
    "#Con For\n",
    "\n",
    "def primos(n):\n",
    "    z=0\n",
    "    for i in range(2,n):\n",
    "        if n%i==0:\n",
    "            break\n",
    "        else:\n",
    "            z=1\n",
    "    if(z==1):print(str(n),\"es un número primo\")\n",
    "    else:print(str(n),\"NO es un número primo\")\n",
    "        \n",
    "\n",
    "#Con While\n",
    "\n",
    "def primos2(n):\n",
    "    z=0\n",
    "    i=2\n",
    "    while i<n:\n",
    "        if n%i==0:\n",
    "            break\n",
    "        else:\n",
    "            z=1\n",
    "        i+=1\n",
    "    if(z==1):print(str(n),\"es un número primo\")\n",
    "    else:print(str(n),\"NO es un número primo\")\n",
    "        \n",
    "#otro ejemplo:\n",
    "def EsPrimo(n):\n",
    "    res=True\n",
    "    p=2\n",
    "    if n>2:\n",
    "        while (p<n) and (res):\n",
    "            res=((n%p)!=0)\n",
    "            p+=1\n",
    "    elif n==2:\n",
    "        res=True\n",
    "    return res\n"
   ]
  },
  {
   "cell_type": "code",
   "execution_count": 1,
   "metadata": {
    "scrolled": false
   },
   "outputs": [
    {
     "name": "stdout",
     "output_type": "stream",
     "text": [
      "Escribe una frase: Estoy programando el ejercicio 7\n",
      "Tu frase transformada es:  Estoy Programando El Ejercicio 7\n"
     ]
    }
   ],
   "source": [
    "#Ejercicio 7. Investiga la documentación de la clase string y crea un método que lea una frase del teclado \n",
    "#y escriba la primera letra de cada palabra en Mayúscula.\n",
    "\n",
    "fraseintroducida = str(input(\"Escribe una frase: \"))\n",
    "lista = fraseintroducida.split(\" \")\n",
    "lista2 = [i.capitalize() for i in lista]\n",
    "lista2\n",
    "print(\"Tu frase transformada es: \", ' '.join(palabra for palabra in lista2))\n"
   ]
  },
  {
   "cell_type": "code",
   "execution_count": null,
   "metadata": {},
   "outputs": [],
   "source": [
    "#EJEMPLO POR OTROS COMPAÑEROS EJERCICIO 7\n",
    "f=input(\"Escribe la frase a convertir: \")\n",
    "print(f.title())\n",
    "\n",
    "#otro ejemplo:\n",
    "x = input(\"Escribe una frase: \")\n",
    "x = x.lower().title()\n",
    "print (x)"
   ]
  },
  {
   "cell_type": "code",
   "execution_count": 2,
   "metadata": {},
   "outputs": [
    {
     "name": "stdout",
     "output_type": "stream",
     "text": [
      "Help on class str in module builtins:\n",
      "\n",
      "class str(object)\n",
      " |  str(object='') -> str\n",
      " |  str(bytes_or_buffer[, encoding[, errors]]) -> str\n",
      " |  \n",
      " |  Create a new string object from the given object. If encoding or\n",
      " |  errors is specified, then the object must expose a data buffer\n",
      " |  that will be decoded using the given encoding and error handler.\n",
      " |  Otherwise, returns the result of object.__str__() (if defined)\n",
      " |  or repr(object).\n",
      " |  encoding defaults to sys.getdefaultencoding().\n",
      " |  errors defaults to 'strict'.\n",
      " |  \n",
      " |  Methods defined here:\n",
      " |  \n",
      " |  __add__(self, value, /)\n",
      " |      Return self+value.\n",
      " |  \n",
      " |  __contains__(self, key, /)\n",
      " |      Return key in self.\n",
      " |  \n",
      " |  __eq__(self, value, /)\n",
      " |      Return self==value.\n",
      " |  \n",
      " |  __format__(self, format_spec, /)\n",
      " |      Return a formatted version of the string as described by format_spec.\n",
      " |  \n",
      " |  __ge__(self, value, /)\n",
      " |      Return self>=value.\n",
      " |  \n",
      " |  __getattribute__(self, name, /)\n",
      " |      Return getattr(self, name).\n",
      " |  \n",
      " |  __getitem__(self, key, /)\n",
      " |      Return self[key].\n",
      " |  \n",
      " |  __getnewargs__(...)\n",
      " |  \n",
      " |  __gt__(self, value, /)\n",
      " |      Return self>value.\n",
      " |  \n",
      " |  __hash__(self, /)\n",
      " |      Return hash(self).\n",
      " |  \n",
      " |  __iter__(self, /)\n",
      " |      Implement iter(self).\n",
      " |  \n",
      " |  __le__(self, value, /)\n",
      " |      Return self<=value.\n",
      " |  \n",
      " |  __len__(self, /)\n",
      " |      Return len(self).\n",
      " |  \n",
      " |  __lt__(self, value, /)\n",
      " |      Return self<value.\n",
      " |  \n",
      " |  __mod__(self, value, /)\n",
      " |      Return self%value.\n",
      " |  \n",
      " |  __mul__(self, value, /)\n",
      " |      Return self*value.\n",
      " |  \n",
      " |  __ne__(self, value, /)\n",
      " |      Return self!=value.\n",
      " |  \n",
      " |  __repr__(self, /)\n",
      " |      Return repr(self).\n",
      " |  \n",
      " |  __rmod__(self, value, /)\n",
      " |      Return value%self.\n",
      " |  \n",
      " |  __rmul__(self, value, /)\n",
      " |      Return value*self.\n",
      " |  \n",
      " |  __sizeof__(self, /)\n",
      " |      Return the size of the string in memory, in bytes.\n",
      " |  \n",
      " |  __str__(self, /)\n",
      " |      Return str(self).\n",
      " |  \n",
      " |  capitalize(self, /)\n",
      " |      Return a capitalized version of the string.\n",
      " |      \n",
      " |      More specifically, make the first character have upper case and the rest lower\n",
      " |      case.\n",
      " |  \n",
      " |  casefold(self, /)\n",
      " |      Return a version of the string suitable for caseless comparisons.\n",
      " |  \n",
      " |  center(self, width, fillchar=' ', /)\n",
      " |      Return a centered string of length width.\n",
      " |      \n",
      " |      Padding is done using the specified fill character (default is a space).\n",
      " |  \n",
      " |  count(...)\n",
      " |      S.count(sub[, start[, end]]) -> int\n",
      " |      \n",
      " |      Return the number of non-overlapping occurrences of substring sub in\n",
      " |      string S[start:end].  Optional arguments start and end are\n",
      " |      interpreted as in slice notation.\n",
      " |  \n",
      " |  encode(self, /, encoding='utf-8', errors='strict')\n",
      " |      Encode the string using the codec registered for encoding.\n",
      " |      \n",
      " |      encoding\n",
      " |        The encoding in which to encode the string.\n",
      " |      errors\n",
      " |        The error handling scheme to use for encoding errors.\n",
      " |        The default is 'strict' meaning that encoding errors raise a\n",
      " |        UnicodeEncodeError.  Other possible values are 'ignore', 'replace' and\n",
      " |        'xmlcharrefreplace' as well as any other name registered with\n",
      " |        codecs.register_error that can handle UnicodeEncodeErrors.\n",
      " |  \n",
      " |  endswith(...)\n",
      " |      S.endswith(suffix[, start[, end]]) -> bool\n",
      " |      \n",
      " |      Return True if S ends with the specified suffix, False otherwise.\n",
      " |      With optional start, test S beginning at that position.\n",
      " |      With optional end, stop comparing S at that position.\n",
      " |      suffix can also be a tuple of strings to try.\n",
      " |  \n",
      " |  expandtabs(self, /, tabsize=8)\n",
      " |      Return a copy where all tab characters are expanded using spaces.\n",
      " |      \n",
      " |      If tabsize is not given, a tab size of 8 characters is assumed.\n",
      " |  \n",
      " |  find(...)\n",
      " |      S.find(sub[, start[, end]]) -> int\n",
      " |      \n",
      " |      Return the lowest index in S where substring sub is found,\n",
      " |      such that sub is contained within S[start:end].  Optional\n",
      " |      arguments start and end are interpreted as in slice notation.\n",
      " |      \n",
      " |      Return -1 on failure.\n",
      " |  \n",
      " |  format(...)\n",
      " |      S.format(*args, **kwargs) -> str\n",
      " |      \n",
      " |      Return a formatted version of S, using substitutions from args and kwargs.\n",
      " |      The substitutions are identified by braces ('{' and '}').\n",
      " |  \n",
      " |  format_map(...)\n",
      " |      S.format_map(mapping) -> str\n",
      " |      \n",
      " |      Return a formatted version of S, using substitutions from mapping.\n",
      " |      The substitutions are identified by braces ('{' and '}').\n",
      " |  \n",
      " |  index(...)\n",
      " |      S.index(sub[, start[, end]]) -> int\n",
      " |      \n",
      " |      Return the lowest index in S where substring sub is found, \n",
      " |      such that sub is contained within S[start:end].  Optional\n",
      " |      arguments start and end are interpreted as in slice notation.\n",
      " |      \n",
      " |      Raises ValueError when the substring is not found.\n",
      " |  \n",
      " |  isalnum(self, /)\n",
      " |      Return True if the string is an alpha-numeric string, False otherwise.\n",
      " |      \n",
      " |      A string is alpha-numeric if all characters in the string are alpha-numeric and\n",
      " |      there is at least one character in the string.\n",
      " |  \n",
      " |  isalpha(self, /)\n",
      " |      Return True if the string is an alphabetic string, False otherwise.\n",
      " |      \n",
      " |      A string is alphabetic if all characters in the string are alphabetic and there\n",
      " |      is at least one character in the string.\n",
      " |  \n",
      " |  isascii(self, /)\n",
      " |      Return True if all characters in the string are ASCII, False otherwise.\n",
      " |      \n",
      " |      ASCII characters have code points in the range U+0000-U+007F.\n",
      " |      Empty string is ASCII too.\n",
      " |  \n",
      " |  isdecimal(self, /)\n",
      " |      Return True if the string is a decimal string, False otherwise.\n",
      " |      \n",
      " |      A string is a decimal string if all characters in the string are decimal and\n",
      " |      there is at least one character in the string.\n",
      " |  \n",
      " |  isdigit(self, /)\n",
      " |      Return True if the string is a digit string, False otherwise.\n",
      " |      \n",
      " |      A string is a digit string if all characters in the string are digits and there\n",
      " |      is at least one character in the string.\n",
      " |  \n",
      " |  isidentifier(self, /)\n",
      " |      Return True if the string is a valid Python identifier, False otherwise.\n",
      " |      \n",
      " |      Use keyword.iskeyword() to test for reserved identifiers such as \"def\" and\n",
      " |      \"class\".\n",
      " |  \n",
      " |  islower(self, /)\n",
      " |      Return True if the string is a lowercase string, False otherwise.\n",
      " |      \n",
      " |      A string is lowercase if all cased characters in the string are lowercase and\n",
      " |      there is at least one cased character in the string.\n",
      " |  \n",
      " |  isnumeric(self, /)\n",
      " |      Return True if the string is a numeric string, False otherwise.\n",
      " |      \n",
      " |      A string is numeric if all characters in the string are numeric and there is at\n",
      " |      least one character in the string.\n",
      " |  \n",
      " |  isprintable(self, /)\n",
      " |      Return True if the string is printable, False otherwise.\n",
      " |      \n",
      " |      A string is printable if all of its characters are considered printable in\n",
      " |      repr() or if it is empty.\n",
      " |  \n",
      " |  isspace(self, /)\n",
      " |      Return True if the string is a whitespace string, False otherwise.\n",
      " |      \n",
      " |      A string is whitespace if all characters in the string are whitespace and there\n",
      " |      is at least one character in the string.\n",
      " |  \n",
      " |  istitle(self, /)\n",
      " |      Return True if the string is a title-cased string, False otherwise.\n",
      " |      \n",
      " |      In a title-cased string, upper- and title-case characters may only\n",
      " |      follow uncased characters and lowercase characters only cased ones.\n",
      " |  \n",
      " |  isupper(self, /)\n",
      " |      Return True if the string is an uppercase string, False otherwise.\n",
      " |      \n",
      " |      A string is uppercase if all cased characters in the string are uppercase and\n",
      " |      there is at least one cased character in the string.\n",
      " |  \n",
      " |  join(self, iterable, /)\n",
      " |      Concatenate any number of strings.\n",
      " |      \n",
      " |      The string whose method is called is inserted in between each given string.\n",
      " |      The result is returned as a new string.\n",
      " |      \n",
      " |      Example: '.'.join(['ab', 'pq', 'rs']) -> 'ab.pq.rs'\n",
      " |  \n",
      " |  ljust(self, width, fillchar=' ', /)\n",
      " |      Return a left-justified string of length width.\n",
      " |      \n",
      " |      Padding is done using the specified fill character (default is a space).\n",
      " |  \n",
      " |  lower(self, /)\n",
      " |      Return a copy of the string converted to lowercase.\n",
      " |  \n",
      " |  lstrip(self, chars=None, /)\n",
      " |      Return a copy of the string with leading whitespace removed.\n",
      " |      \n",
      " |      If chars is given and not None, remove characters in chars instead.\n",
      " |  \n",
      " |  partition(self, sep, /)\n",
      " |      Partition the string into three parts using the given separator.\n",
      " |      \n",
      " |      This will search for the separator in the string.  If the separator is found,\n",
      " |      returns a 3-tuple containing the part before the separator, the separator\n",
      " |      itself, and the part after it.\n",
      " |      \n",
      " |      If the separator is not found, returns a 3-tuple containing the original string\n",
      " |      and two empty strings.\n",
      " |  \n",
      " |  replace(self, old, new, count=-1, /)\n",
      " |      Return a copy with all occurrences of substring old replaced by new.\n",
      " |      \n",
      " |        count\n",
      " |          Maximum number of occurrences to replace.\n",
      " |          -1 (the default value) means replace all occurrences.\n",
      " |      \n",
      " |      If the optional argument count is given, only the first count occurrences are\n",
      " |      replaced.\n",
      " |  \n",
      " |  rfind(...)\n",
      " |      S.rfind(sub[, start[, end]]) -> int\n",
      " |      \n",
      " |      Return the highest index in S where substring sub is found,\n",
      " |      such that sub is contained within S[start:end].  Optional\n",
      " |      arguments start and end are interpreted as in slice notation.\n",
      " |      \n",
      " |      Return -1 on failure.\n",
      " |  \n",
      " |  rindex(...)\n",
      " |      S.rindex(sub[, start[, end]]) -> int\n",
      " |      \n",
      " |      Return the highest index in S where substring sub is found,\n",
      " |      such that sub is contained within S[start:end].  Optional\n",
      " |      arguments start and end are interpreted as in slice notation.\n",
      " |      \n",
      " |      Raises ValueError when the substring is not found.\n",
      " |  \n",
      " |  rjust(self, width, fillchar=' ', /)\n",
      " |      Return a right-justified string of length width.\n",
      " |      \n",
      " |      Padding is done using the specified fill character (default is a space).\n",
      " |  \n",
      " |  rpartition(self, sep, /)\n",
      " |      Partition the string into three parts using the given separator.\n",
      " |      \n",
      " |      This will search for the separator in the string, starting at the end. If\n",
      " |      the separator is found, returns a 3-tuple containing the part before the\n",
      " |      separator, the separator itself, and the part after it.\n",
      " |      \n",
      " |      If the separator is not found, returns a 3-tuple containing two empty strings\n",
      " |      and the original string.\n",
      " |  \n",
      " |  rsplit(self, /, sep=None, maxsplit=-1)\n",
      " |      Return a list of the words in the string, using sep as the delimiter string.\n",
      " |      \n",
      " |        sep\n",
      " |          The delimiter according which to split the string.\n",
      " |          None (the default value) means split according to any whitespace,\n",
      " |          and discard empty strings from the result.\n",
      " |        maxsplit\n",
      " |          Maximum number of splits to do.\n",
      " |          -1 (the default value) means no limit.\n",
      " |      \n",
      " |      Splits are done starting at the end of the string and working to the front.\n",
      " |  \n",
      " |  rstrip(self, chars=None, /)\n",
      " |      Return a copy of the string with trailing whitespace removed.\n",
      " |      \n",
      " |      If chars is given and not None, remove characters in chars instead.\n",
      " |  \n",
      " |  split(self, /, sep=None, maxsplit=-1)\n",
      " |      Return a list of the words in the string, using sep as the delimiter string.\n",
      " |      \n",
      " |      sep\n",
      " |        The delimiter according which to split the string.\n",
      " |        None (the default value) means split according to any whitespace,\n",
      " |        and discard empty strings from the result.\n",
      " |      maxsplit\n",
      " |        Maximum number of splits to do.\n",
      " |        -1 (the default value) means no limit.\n",
      " |  \n",
      " |  splitlines(self, /, keepends=False)\n",
      " |      Return a list of the lines in the string, breaking at line boundaries.\n",
      " |      \n",
      " |      Line breaks are not included in the resulting list unless keepends is given and\n",
      " |      true.\n",
      " |  \n",
      " |  startswith(...)\n",
      " |      S.startswith(prefix[, start[, end]]) -> bool\n",
      " |      \n",
      " |      Return True if S starts with the specified prefix, False otherwise.\n",
      " |      With optional start, test S beginning at that position.\n",
      " |      With optional end, stop comparing S at that position.\n",
      " |      prefix can also be a tuple of strings to try.\n",
      " |  \n",
      " |  strip(self, chars=None, /)\n",
      " |      Return a copy of the string with leading and trailing whitespace remove.\n",
      " |      \n",
      " |      If chars is given and not None, remove characters in chars instead.\n",
      " |  \n",
      " |  swapcase(self, /)\n",
      " |      Convert uppercase characters to lowercase and lowercase characters to uppercase.\n",
      " |  \n",
      " |  title(self, /)\n",
      " |      Return a version of the string where each word is titlecased.\n",
      " |      \n",
      " |      More specifically, words start with uppercased characters and all remaining\n",
      " |      cased characters have lower case.\n",
      " |  \n",
      " |  translate(self, table, /)\n",
      " |      Replace each character in the string using the given translation table.\n",
      " |      \n",
      " |        table\n",
      " |          Translation table, which must be a mapping of Unicode ordinals to\n",
      " |          Unicode ordinals, strings, or None.\n",
      " |      \n",
      " |      The table must implement lookup/indexing via __getitem__, for instance a\n",
      " |      dictionary or list.  If this operation raises LookupError, the character is\n",
      " |      left untouched.  Characters mapped to None are deleted.\n",
      " |  \n",
      " |  upper(self, /)\n",
      " |      Return a copy of the string converted to uppercase.\n",
      " |  \n",
      " |  zfill(self, width, /)\n",
      " |      Pad a numeric string with zeros on the left, to fill a field of the given width.\n",
      " |      \n",
      " |      The string is never truncated.\n",
      " |  \n",
      " |  ----------------------------------------------------------------------\n",
      " |  Static methods defined here:\n",
      " |  \n",
      " |  __new__(*args, **kwargs) from builtins.type\n",
      " |      Create and return a new object.  See help(type) for accurate signature.\n",
      " |  \n",
      " |  maketrans(x, y=None, z=None, /)\n",
      " |      Return a translation table usable for str.translate().\n",
      " |      \n",
      " |      If there is only one argument, it must be a dictionary mapping Unicode\n",
      " |      ordinals (integers) or characters to Unicode ordinals, strings or None.\n",
      " |      Character keys will be then converted to ordinals.\n",
      " |      If there are two arguments, they must be strings of equal length, and\n",
      " |      in the resulting dictionary, each character in x will be mapped to the\n",
      " |      character at the same position in y. If there is a third argument, it\n",
      " |      must be a string, whose characters will be mapped to None in the result.\n",
      "\n"
     ]
    }
   ],
   "source": [
    "help (str)"
   ]
  },
  {
   "cell_type": "code",
   "execution_count": 41,
   "metadata": {},
   "outputs": [],
   "source": [
    "#Ejercicio 8. Crea una función que calcule el máximo común divisor de dos números introducidos por el usuario por teclado.\n",
    "def mcd(a,b):\n",
    "    max1 = [x for x in range(1,a) if a%x == 0]\n",
    "    max2 = [y for y in range(1,b) if b%y == 0]\n",
    "    print(max(set(max1).intersection(max2)))\n",
    "    \n"
   ]
  },
  {
   "cell_type": "code",
   "execution_count": 44,
   "metadata": {},
   "outputs": [
    {
     "name": "stdout",
     "output_type": "stream",
     "text": [
      "12\n"
     ]
    }
   ],
   "source": [
    "mcd(24,60)"
   ]
  },
  {
   "cell_type": "code",
   "execution_count": null,
   "metadata": {},
   "outputs": [],
   "source": [
    "#EJEMPLO POR OTROS COMPAÑEROS EJERCICIO 8\n",
    "a=input(\"Escribe el primer número \")\n",
    "b=input(\"Escribe el segundo número \")\n",
    "def MCD(A,B):\n",
    "    A=int(a)\n",
    "    B=int(b)\n",
    "    if A==0: print(\"El máximo común divisor es \",str(B))\n",
    "    elif B==0: print(\"El máximo común divisor es \",str(A))\n",
    "    elif A==B: print(\"El máximo común divisor es \",str(A))\n",
    "    elif A<B:\n",
    "        m=B%A\n",
    "        print(\"El máximo común divisor es \",str(m))\n",
    "    else:\n",
    "        m=A%B\n",
    "        print(\"El máximo común divisor es \",str(m))\n",
    "MCD(a,b)\n",
    "\n",
    "#otro ejemplo:\n",
    "def mcd(a, b):\n",
    "    residuo = 0\n",
    "    while(b > 0):\n",
    "        residuo = b\n",
    "        b = a % b\n",
    "        a = residuo\n",
    "    return a\n",
    "\n",
    "#otro ejemplo:\n",
    "import math\n",
    "def mcd(a,b):\n",
    "    return math.gcd(a,b)\n",
    "num=input(\"Introduce dos numeros separado por coma \")\n",
    "numeros=num.split(\",\")\n",
    "mcd(int(numeros[0]),int(numeros[1]))"
   ]
  },
  {
   "cell_type": "code",
   "execution_count": 28,
   "metadata": {},
   "outputs": [],
   "source": [
    "#OTRA FORMA DE HACER EL EJERCICIO 8 QUE NO ENTIENDO MUY BIEN LA SINTAXIS\n",
    "def gcd(x, y):\n",
    "    while y != 0:\n",
    "        (x, y) = (y, x % y)\n",
    "    return x"
   ]
  },
  {
   "cell_type": "code",
   "execution_count": 43,
   "metadata": {
    "scrolled": true
   },
   "outputs": [
    {
     "data": {
      "text/plain": [
       "12"
      ]
     },
     "execution_count": 43,
     "metadata": {},
     "output_type": "execute_result"
    }
   ],
   "source": [
    "gcd(24,60)"
   ]
  },
  {
   "cell_type": "code",
   "execution_count": 46,
   "metadata": {},
   "outputs": [],
   "source": [
    "#OTRA FORMA DE HACER EL EJERCICIO 8 SIMILAR A LA ANTERIOR\n",
    "def gcd_recursive(a, b):\n",
    "    if b == 0:\n",
    "        return a\n",
    "    else:\n",
    "        return gcd_recursive(b, a % b)"
   ]
  },
  {
   "cell_type": "code",
   "execution_count": 47,
   "metadata": {},
   "outputs": [
    {
     "data": {
      "text/plain": [
       "12"
      ]
     },
     "execution_count": 47,
     "metadata": {},
     "output_type": "execute_result"
    }
   ],
   "source": [
    "gcd_recursive(24,60)"
   ]
  },
  {
   "cell_type": "code",
   "execution_count": null,
   "metadata": {},
   "outputs": [],
   "source": [
    "#Ejercicio 9. Investiga el Cifrado del César y crea una función que lo reproduzca en Python. \n",
    "#Cada letra del mensaje original se desplaza tres posiciones en el alfabeto estándar.\n",
    "#La A se convierte en la D, la B se convierte en la E, la C se convierte en la F... y cuando se acaba el alfabeto \n",
    "#se le vuelve a dar la vuelta: la X se convierte en la A, la Y en la B y la Z en la C. \n",
    "#Los números no sufren ninguna modificación.\n"
   ]
  },
  {
   "cell_type": "code",
   "execution_count": 95,
   "metadata": {
    "scrolled": false
   },
   "outputs": [
    {
     "name": "stdout",
     "output_type": "stream",
     "text": [
      "Escribe una frase: hola que tal\n",
      "k r ñ d   t x h   w d ñ "
     ]
    }
   ],
   "source": [
    "cesar = {\n",
    "    \"a\": 'd',\n",
    "    \"b\": 'e',\n",
    "    \"c\": 'f',\n",
    "    \"d\": 'g',\n",
    "    \"e\": 'h',\n",
    "    \"f\": 'i',\n",
    "    \"g\": 'j',\n",
    "    \"h\": 'k',\n",
    "    \"i\": 'l',\n",
    "    \"j\": 'm',\n",
    "    \"k\": 'n',\n",
    "    \"l\": 'ñ',\n",
    "    \"m\": 'o',\n",
    "    \"n\": 'p',\n",
    "    \"ñ\": 'q',\n",
    "    \"o\": 'r',\n",
    "    \"p\": 's',\n",
    "    \"q\": 't',\n",
    "    \"r\": 'u',\n",
    "    \"s\": 'v',\n",
    "    \"t\": 'w',\n",
    "    \"u\": 'x',\n",
    "    \"v\": 'y',\n",
    "    \"w\": 'z',\n",
    "    \"x\": 'a',\n",
    "    \"y\": 'b',\n",
    "    \"z\": 'c',\n",
    "    \" \": ' '\n",
    "}\n",
    "teclado = str(input(\"Escribe una frase: \"))\n",
    "cesarclaves = cesar.keys()\n",
    "for letra in teclado:\n",
    "    if letra in cesarclaves:\n",
    "        mensajecesar = cesar[letra]\n",
    "        print(mensajecesar,end=' ')\n",
    "\n",
    "        "
   ]
  },
  {
   "cell_type": "code",
   "execution_count": null,
   "metadata": {},
   "outputs": [],
   "source": [
    "#EJEMPLO POR OTROS COMPAÑEROS EJERCICIO 9\n",
    "m=list(map(chr, range(97, 123))) \n",
    "M=list(map(chr,range(65,91)))\n",
    "Mes=input(\"Digite el mensaje a codificar \")\n",
    "n=3\n",
    "cod=[]\n",
    "for l in Mes:\n",
    "    if l in m:\n",
    "        if m.index(l)+n<len(m):\n",
    "            cod.append(m[m.index(l)+n])\n",
    "        else:\n",
    "            cod.append(m[len(m)-m.index(l)-n])\n",
    "    elif l in M:\n",
    "        if M.index(l)+n<len(M):\n",
    "            cod.append(M[M.index(l)+n])\n",
    "        else:\n",
    "            cod.append(M[len(M)-M.index(l)-n])\n",
    "    else:\n",
    "        cod.append(l)\n",
    "    \n",
    "cod1=\"\".join(cod)\n",
    "print(\"El codigo es \",cod1)\n",
    "\n",
    "#otro ejemplo:\n",
    "def Cesar(x):\n",
    "x = x.lower()\n",
    "palabra = []\n",
    "cesar = [\"a\",\"b\",\"c\",\"d\",\"e\",\"f\",\"g\",\"h\",\"i\",\"j\",\"k\",\"l\",\"m\",\"n\",\"ñ\",\"o\",\"p\",\"q\",\"r\",\"s\",\"t\",\"u\",\"v\",\"w\",\"x\",\"y\",\"z\"]\n",
    "for a in x:\n",
    "for idx, codif in enumerate(cesar):\n",
    "if a == \"x\":\n",
    "palabra.append(cesar[0])\n",
    "break\n",
    "elif a == \"y\":\n",
    "palabra.append(cesar[1])\n",
    "break\n",
    "elif a == \"z\":\n",
    "palabra.append(cesar[2])\n",
    "break\n",
    "elif a == codif:\n",
    "palabra.append(cesar[idx+3])\n",
    "break\n",
    "print(palabra)"
   ]
  },
  {
   "cell_type": "code",
   "execution_count": 96,
   "metadata": {},
   "outputs": [
    {
     "name": "stdout",
     "output_type": "stream",
     "text": [
      "HOLA QUE TAL\n",
      "KROD TXH WDO\n",
      "HOLA QUE TAL\n"
     ]
    }
   ],
   "source": [
    "L2I = dict(zip(\"ABCDEFGHIJKLMNOPQRSTUVWXYZ\",range(26)))\n",
    "I2L = dict(zip(range(26),\"ABCDEFGHIJKLMNOPQRSTUVWXYZ\"))\n",
    "\n",
    "key = 3\n",
    "plaintext = \"HOLA QUE TAL\"\n",
    "\n",
    "# encipher\n",
    "ciphertext = \"\"\n",
    "for c in plaintext.upper():\n",
    "    if c.isalpha(): ciphertext += I2L[ (L2I[c] + key)%26 ]\n",
    "    else: ciphertext += c\n",
    "\n",
    "# decipher\n",
    "plaintext2 = \"\"\n",
    "for c in ciphertext.upper():\n",
    "    if c.isalpha(): plaintext2 += I2L[ (L2I[c] - key)%26 ]\n",
    "    else: plaintext2 += c\n",
    "\n",
    "print(plaintext)\n",
    "print(ciphertext)\n",
    "print(plaintext2)"
   ]
  },
  {
   "cell_type": "code",
   "execution_count": 120,
   "metadata": {},
   "outputs": [
    {
     "name": "stdout",
     "output_type": "stream",
     "text": [
      "Lista ordenada alfabéticamente ['Alejandro', 'Carla', 'Carolina', 'Cristian', 'Isa', 'Marta', 'Pepe', 'Roberto']\n",
      "Lista ordenada invertida ['Roberto', 'Pepe', 'Marta', 'Isa', 'Cristian', 'Carolina', 'Carla', 'Alejandro']\n",
      "Lista del nombre más corto al más largo ['Isa', 'Pepe', 'Marta', 'Carla', 'Roberto', 'Cristian', 'Carolina', 'Alejandro']\n"
     ]
    }
   ],
   "source": [
    "#Ejercicio 10. Dado una lista de nombres de persona, escribe un algoritmo que los ordene de tres formas diferentes:\n",
    "#A. De forma alfabética\n",
    "#B. De forma alfabética invertida\n",
    "#C. De nombre más corto al más largo.\n",
    "listanombres = [\"Cristian\", \"Alejandro\", \"Marta\", \"Isa\", \"Pepe\", \"Carolina\", \"Roberto\", \"Carla\"]\n",
    "listanombres.sort()\n",
    "print(\"Lista ordenada alfabéticamente\", listanombres)\n",
    "listanombres.reverse()\n",
    "print(\"Lista ordenada invertida\", listanombres)\n",
    "listanombres.sort(key=len)\n",
    "print(\"Lista del nombre más corto al más largo\", listanombres)"
   ]
  },
  {
   "cell_type": "code",
   "execution_count": 109,
   "metadata": {},
   "outputs": [],
   "source": [
    "#EJEMPLO POR OTROS COMPAÑEROS EJERCICIO 10\n",
    "l=['Sheryl','Susan','Alexandra','Ruberth','Christhian','Zara']\n",
    "l1=l.copy()\n",
    "l1.sort()\n",
    "l2=l.copy()\n",
    "l2.sort(reverse = True)# Ordenar de forma invertida se utiliza la opción reverse\n",
    "l3=l.copy() \n",
    "l3.sort(key=len)#Ordenar por longitud de elementos, se opción key\n",
    "print(\"la lista ordenada alfabeticamente es\")\n",
    "print(l1)\n",
    "print(\"la lista ordenada de forma alfabetética invertida es\")\n",
    "print(l2)\n",
    "print(\"la lista ordenada de nombre mas corto a largo es\")\n",
    "print(l3)"
   ]
  },
  {
   "cell_type": "code",
   "execution_count": null,
   "metadata": {},
   "outputs": [],
   "source": []
  }
 ],
 "metadata": {
  "kernelspec": {
   "display_name": "Python 3",
   "language": "python",
   "name": "python3"
  },
  "language_info": {
   "codemirror_mode": {
    "name": "ipython",
    "version": 3
   },
   "file_extension": ".py",
   "mimetype": "text/x-python",
   "name": "python",
   "nbconvert_exporter": "python",
   "pygments_lexer": "ipython3",
   "version": "3.7.1"
  }
 },
 "nbformat": 4,
 "nbformat_minor": 2
}
